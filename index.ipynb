{
 "cells": [
  {
   "cell_type": "code",
   "execution_count": 22,
   "metadata": {},
   "outputs": [],
   "source": [
    "# import everything and define a test runner function\n",
    "from importlib import reload\n",
    "from helper import run_test\n",
    "\n",
    "import ecc\n",
    "import helper"
   ]
  },
  {
   "cell_type": "markdown",
   "metadata": {},
   "source": [
    "### Exercise 1\n",
    "\n",
    "Remember the % operator does the actual modulo operation. Also remember that + and - need to be in () because in the order of operations % comes before + and -.\n",
    "\n",
    "#### 1.1. Solve these equations in \\\\(F_{31}\\\\):\n",
    "\n",
    "```\n",
    "2+15=?\n",
    "17+21=?\n",
    "29-4=?\n",
    "15-30=?\n",
    "```\n",
    "\n",
    "#### 1.2. Make [these tests](/edit/session1/ecc.py) pass:\n",
    "```\n",
    "ecc.py:FieldElementTest:test_add\n",
    "ecc.py:FieldElementTest:test_sub\n",
    "```"
   ]
  },
  {
   "cell_type": "code",
   "execution_count": 23,
   "metadata": {},
   "outputs": [],
   "source": [
    "# Exercise 1.1\n",
    "\n",
    "# remember that % is the modulo operator\n",
    "prime = 31\n",
    "# 2+15=?\n",
    "# 17+21=?\n",
    "# 29-4=?\n",
    "# 15-30=?"
   ]
  },
  {
   "cell_type": "code",
   "execution_count": 24,
   "metadata": {},
   "outputs": [],
   "source": [
    "class FieldElement(FieldElement):\n",
    "\n",
    "    def __add__(self, other):\n",
    "        if self.prime != other.prime:\n",
    "            raise RuntimeError('Primes must be the same')\n",
    "        # self.num and other.num are the actual values\n",
    "        num = (self.num + other.num) % self.prime\n",
    "        # self.prime is what you'll need to mod against\n",
    "        prime = self.prime\n",
    "        # You need to return an element of the same class\n",
    "        # use: self.__class__(num, prime)\n",
    "        return self.__class__(num, prime)\n",
    "\n",
    "    def __sub__(self, other):\n",
    "        if self.prime != other.prime:\n",
    "            raise RuntimeError('Primes must be the same')\n",
    "        # self.num and other.num are the actual values\n",
    "        # self.prime is what you'll need to mod against\n",
    "        # You need to return an element of the same class\n",
    "        # use: self.__class__(num, prime)\n",
    "        pass"
   ]
  },
  {
   "cell_type": "markdown",
   "metadata": {},
   "source": [
    "### Exercise 2\n",
    "\n",
    "#### 2.1. Solve these equations in \\\\(F_{31}\\\\):\n",
    "\n",
    "\\\\(24\\cdot19=?\\\\)\n",
    "\n",
    "\\\\(17^3=?\\\\)\n",
    "\n",
    "\\\\(5^5\\cdot18=?\\\\)\n",
    "\n",
    "#### 2.2. Write a program to calculate \\\\(0k, 1k, 2k, 3k, ... 30k\\\\) for some k in \\\\(F_{31}\\\\).  Notice anything about these sets?\n",
    "\n",
    "#### 2.3. Write a program to calculate \\\\(k^{30}\\\\) for all k in \\\\(F_{31}\\\\). Notice anything?\n",
    "\n",
    "#### 2.4. Make [these tests](/edit/session1/ecc.py) pass:\n",
    "```\n",
    "ecc.py:FieldElementTest:test_mul\n",
    "ecc.py:FieldElementTest:test_pow\n",
    "```"
   ]
  },
  {
   "cell_type": "code",
   "execution_count": 25,
   "metadata": {},
   "outputs": [],
   "source": [
    "# Exercise 2.1\n",
    "\n",
    "# remember that ** is the exponentiation operator\n",
    "prime = 31\n",
    "# 24*19=?\n",
    "# 17^3=?\n",
    "# 5^5*18=?"
   ]
  },
  {
   "cell_type": "code",
   "execution_count": 26,
   "metadata": {},
   "outputs": [],
   "source": [
    "# Exercise 2.2\n",
    "\n",
    "from random import randint\n",
    "\n",
    "prime = 31\n",
    "k = randint(1,prime)\n",
    "\n",
    "# use range(prime) to iterate over all numbers from 0 to 30 inclusive"
   ]
  },
  {
   "cell_type": "code",
   "execution_count": 27,
   "metadata": {},
   "outputs": [],
   "source": [
    "# Exercise 2.3\n",
    "\n",
    "prime = 31\n",
    "\n",
    "# use range(1, prime) to iterate over all numbers from 1 to 30 inclusive"
   ]
  },
  {
   "cell_type": "code",
   "execution_count": 28,
   "metadata": {},
   "outputs": [],
   "source": [
    "class FieldElement(FieldElement):\n",
    "\n",
    "    def __mul__(self, other):\n",
    "        if self.prime != other.prime:\n",
    "            raise RuntimeError('Primes must be the same')\n",
    "        # self.num and other.num are the actual values\n",
    "        # self.prime is what you'll need to mod against\n",
    "        # You need to return an element of the same class\n",
    "        # use: self.__class__(num, prime)\n",
    "        pass\n",
    "\n",
    "    def __pow__(self, n):\n",
    "        # remember fermat's little theorem:\n",
    "        # self.num**(p-1) % p == 1\n",
    "        # you might want to use % operator on n\n",
    "        pass"
   ]
  },
  {
   "cell_type": "markdown",
   "metadata": {},
   "source": [
    "### Exercise 3\n",
    "\n",
    "#### 3.1. Solve these equations in \\\\(F_{31}\\\\):\n",
    "\n",
    "\\\\(3/24 = ?\\\\)\n",
    "\n",
    "\\\\(17^{-3} = ?\\\\)\n",
    "\n",
    "\\\\(4^{-4}\\cdot{11} = ?\\\\)\n",
    "\n",
    "#### 3.2. Write a program to calculate \\\\(k/1, k/2, k/3, ...k/30\\\\) for some k in \\\\(F_{31}\\\\). Notice anything about these sets?\n",
    "\n",
    "#### 3.3. Make [these tests](/edit/session1/ecc.py) pass:\n",
    "\n",
    "```\n",
    "ecc.py:FieldElementTest:test_div\n",
    "```"
   ]
  },
  {
   "cell_type": "code",
   "execution_count": 29,
   "metadata": {},
   "outputs": [],
   "source": [
    "# Exercise 3.1\n",
    "\n",
    "# remember pow(x, p-2, p) is the same as 1/x in F_p\n",
    "prime = 31\n",
    "# 3/24 = ?\n",
    "# 17^(-3) = ?\n",
    "# 4^(-4)*11 = ?"
   ]
  },
  {
   "cell_type": "code",
   "execution_count": 30,
   "metadata": {},
   "outputs": [],
   "source": [
    "# Exercise 3.2\n",
    "\n",
    "from random import randint\n",
    "\n",
    "prime = 31\n",
    "k = randint(1, prime)\n",
    "\n",
    "# use range(31) to iterate over all numbers from 0 to 30 inclusive"
   ]
  },
  {
   "cell_type": "code",
   "execution_count": 31,
   "metadata": {},
   "outputs": [],
   "source": [
    "import ecc\n",
    "b = FieldElement(19, 31)"
   ]
  },
  {
   "cell_type": "code",
   "execution_count": 32,
   "metadata": {},
   "outputs": [],
   "source": [
    "class FieldElement(FieldElement):\n",
    "\n",
    "    def __truediv__(self, other):\n",
    "        if self.prime != other.prime:\n",
    "            raise RuntimeError('Primes must be the same')\n",
    "        # self.num and other.num are the actual values\n",
    "        # self.prime is what you'll need to mod against\n",
    "        # use fermat's little theorem:\n",
    "        # self.num**(p-1) % p == 1\n",
    "        # this means:\n",
    "        # 1/n == pow(n, p-2, p)\n",
    "        # You need to return an element of the same class\n",
    "        # use: self.__class__(num, prime)\n",
    "        pass\n",
    "\n",
    "# Hint: the __pow__ method needs a positive number for the exponent.\n",
    "# You can mod by p-1"
   ]
  },
  {
   "cell_type": "markdown",
   "metadata": {},
   "source": [
    "### Exercise 4\n",
    "\n",
    "#### 4.1. For the curve \\\\(y^2 = x^3 + 5x + 7\\\\), which of these are on the curve?\n",
    "\n",
    "\\\\((-2,4), (3,7), (18,77)\\\\)\n"
   ]
  },
  {
   "cell_type": "code",
   "execution_count": 33,
   "metadata": {},
   "outputs": [],
   "source": [
    "# Exercise 4.1\n",
    "\n",
    "# (-2,4), (3,7), (18,77)\n",
    "# equation in python is: y**2 == x**3 + 5*x + 7\n",
    "\n",
    "points = ((-2,4), (3,7), (18,77))\n",
    "\n",
    "# for x, y in points:\n",
    "    # determine whether (x,y) is on the curve"
   ]
  },
  {
   "cell_type": "code",
   "execution_count": 34,
   "metadata": {},
   "outputs": [],
   "source": [
    "class Point:\n",
    "    def __init__(self, x, y, a, b):\n",
    "        self.a = a\n",
    "        self.b = b\n",
    "        self.x = x\n",
    "        self.y = y\n",
    "        # make sure that the elliptic curve equation is satisfied\n",
    "        # y**2 == x**3 + a*x + b\n",
    "        # if not, throw a RuntimeError\n",
    "\n",
    "        # Exercise 5.1: x being None and y being None represents the point at infinity\n",
    "        # Exercise 5.1: Check for that here since the equation below won't make sense\n",
    "        # Exercise 5.1: with None values for both.\n",
    "        pass"
   ]
  },
  {
   "cell_type": "markdown",
   "metadata": {},
   "source": [
    "### Exercise 5\n",
    "\n",
    "#### 5.1. Make [this test](/edit/session1/ecc.py) pass\n",
    "```\n",
    "ecc.py:PointTest:test_add0\n",
    "```"
   ]
  },
  {
   "cell_type": "markdown",
   "metadata": {},
   "source": [
    "### Exercise 6\n",
    "\n",
    "#### 6.1. For the curve \\\\(y^2 = x^3 + 5x + 7\\\\), what is \\\\((2,5) + (-1,-1)\\\\)?\n",
    "\n",
    "#### 6.2. Make [this test](/edit/session1/ecc.py) pass\n",
    "```\n",
    "ecc.py:PointTest:test_add1\n",
    "```"
   ]
  },
  {
   "cell_type": "code",
   "execution_count": 35,
   "metadata": {},
   "outputs": [],
   "source": [
    "# Exercise 6.1\n",
    "\n",
    "x1, y1 = (2,5)\n",
    "x2, y2 = (-1,-1)\n",
    "# formula in python:\n",
    "# s = (y2-y1)/(x2-x1)\n",
    "# x3 = s**2 - x2 - x1\n",
    "# y3 = s*(x1-x3)-y1"
   ]
  },
  {
   "cell_type": "markdown",
   "metadata": {},
   "source": [
    "### Exercise 7\n",
    "\n",
    "#### 7.1. For the curve \\\\(y^2 = x^3 + 5x + 7\\\\), what is \\\\((-1,1) + (-1,1)\\\\)?\n",
    "\n",
    "#### 7.2. Make [this test](/edit/session1/ecc.py) pass\n",
    "```\n",
    "ecc.py:PointTest:test_add2\n",
    "```"
   ]
  },
  {
   "cell_type": "code",
   "execution_count": 36,
   "metadata": {},
   "outputs": [],
   "source": [
    "# Exercise 7.1\n",
    "\n",
    "a, b = 5, 7\n",
    "x1, y1 = -1, -1\n",
    "\n",
    "# formula in python\n",
    "# s = (3*x1**2+a)/(2*y1)\n",
    "# x3 = s**2 - 2*x1\n",
    "# y3 = s*(x1-x3) - y1y3 = s*(x1-x3) - y1"
   ]
  },
  {
   "cell_type": "code",
   "execution_count": 37,
   "metadata": {},
   "outputs": [],
   "source": [
    "class Point:\n",
    "    def __init__(self, x, y, a, b):\n",
    "        self.a = a\n",
    "        self.b = b\n",
    "        self.x = x\n",
    "        self.y = y\n",
    "        # make sure that the elliptic curve equation is satisfied\n",
    "        # y**2 == x**3 + a*x + b\n",
    "        # if not, throw a RuntimeError\n",
    "\n",
    "        # Exercise 5.1: x being None and y being None represents the point at infinity\n",
    "        # Exercise 5.1: Check for that here since the equation below won't make sense\n",
    "        # Exercise 5.1: with None values for both.\n",
    "        pass\n",
    "\n",
    "    def __add__(self, other):\n",
    "        if self.a != other.a or self.b != other.b:\n",
    "            raise RuntimeError('Points {}, {} are not on the same curve'.format(self, other))\n",
    "        # Case 0.0: self is the point at infinity, return other\n",
    "        # Case 0.1: other is the point at infinity, return self\n",
    "\n",
    "        # Case 1: self.x == other.x, self.y != other.y\n",
    "        # Result is point at infinity\n",
    "        # Remember to return an instance of this class:\n",
    "        # self.__class__(x, y, a, b)\n",
    "\n",
    "        # Case 2: self.x != other.x\n",
    "        # Formula (x3,y3)==(x1,y1)+(x2,y2)\n",
    "        # s=(y2-y1)/(x2-x1)\n",
    "        # x3=s**2-x1-x2\n",
    "        # y3=s*(x1-x3)-y1\n",
    "        # Remember to return an instance of this class:\n",
    "        # self.__class__(x, y, a, b)\n",
    "\n",
    "        # Case 3: self.x == other.x, self.y == other.y\n",
    "        # Formula (x3,y3)=(x1,y1)+(x1,y1)\n",
    "        # s=(3*x1**2+a)/(2*y1)\n",
    "        # x3=s**2-2*x1\n",
    "        # y3=s*(x1-x3)-y1\n",
    "        # Remember to return an instance of this class:\n",
    "        # self.__class__(x, y, a, b)"
   ]
  }
 ],
 "metadata": {
  "kernelspec": {
   "display_name": "Python 3",
   "language": "python",
   "name": "python3"
  },
  "language_info": {
   "codemirror_mode": {
    "name": "ipython",
    "version": 3
   },
   "file_extension": ".py",
   "mimetype": "text/x-python",
   "name": "python",
   "nbconvert_exporter": "python",
   "pygments_lexer": "ipython3",
   "version": "3.6.5"
  }
 },
 "nbformat": 4,
 "nbformat_minor": 2
}
